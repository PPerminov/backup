{
 "cells": [
  {
   "cell_type": "code",
   "execution_count": 1,
   "metadata": {},
   "outputs": [],
   "source": [
    "import btrfs\n"
   ]
  },
  {
   "cell_type": "code",
   "execution_count": 12,
   "metadata": {},
   "outputs": [
    {
     "data": {
      "text/plain": [
       "['BLOCK_GROUP_DATA',\n",
       " 'BLOCK_GROUP_DUP',\n",
       " 'BLOCK_GROUP_METADATA',\n",
       " 'BLOCK_GROUP_PROFILE_MASK',\n",
       " 'BLOCK_GROUP_RAID0',\n",
       " 'BLOCK_GROUP_RAID1',\n",
       " 'BLOCK_GROUP_RAID10',\n",
       " 'BLOCK_GROUP_RAID5',\n",
       " 'BLOCK_GROUP_RAID6',\n",
       " 'BLOCK_GROUP_SINGLE',\n",
       " 'BLOCK_GROUP_SYSTEM',\n",
       " 'BLOCK_GROUP_TYPE_MASK',\n",
       " 'SPACE_INFO_GLOBAL_RSV',\n",
       " '__builtins__',\n",
       " '__cached__',\n",
       " '__doc__',\n",
       " '__file__',\n",
       " '__loader__',\n",
       " '__name__',\n",
       " '__package__',\n",
       " '__spec__',\n",
       " '_block_group_profile_ratio_map',\n",
       " '_block_group_profile_str_map',\n",
       " '_block_group_type_str_map',\n",
       " 'block_group_flags_str',\n",
       " 'block_group_profile_ratio',\n",
       " 'block_group_profile_str',\n",
       " 'block_group_type_str',\n",
       " 'btrfs',\n",
       " 'embedded_text_for_str',\n",
       " 'flags_str',\n",
       " 'fs_usage',\n",
       " 'mounted_filesystems',\n",
       " 'pretty_size',\n",
       " 'pretty_size_units',\n",
       " 'wasted_space_raid0_raid1']"
      ]
     },
     "execution_count": 12,
     "metadata": {},
     "output_type": "execute_result"
    }
   ],
   "source": [
    "dir(btrfs.utils)"
   ]
  },
  {
   "cell_type": "code",
   "execution_count": 13,
   "metadata": {},
   "outputs": [
    {
     "data": {
      "text/plain": [
       "['__annotations__',\n",
       " '__call__',\n",
       " '__class__',\n",
       " '__closure__',\n",
       " '__code__',\n",
       " '__defaults__',\n",
       " '__delattr__',\n",
       " '__dict__',\n",
       " '__dir__',\n",
       " '__doc__',\n",
       " '__eq__',\n",
       " '__format__',\n",
       " '__ge__',\n",
       " '__get__',\n",
       " '__getattribute__',\n",
       " '__globals__',\n",
       " '__gt__',\n",
       " '__hash__',\n",
       " '__init__',\n",
       " '__kwdefaults__',\n",
       " '__le__',\n",
       " '__lt__',\n",
       " '__module__',\n",
       " '__name__',\n",
       " '__ne__',\n",
       " '__new__',\n",
       " '__qualname__',\n",
       " '__reduce__',\n",
       " '__reduce_ex__',\n",
       " '__repr__',\n",
       " '__setattr__',\n",
       " '__sizeof__',\n",
       " '__str__',\n",
       " '__subclasshook__']"
      ]
     },
     "execution_count": 13,
     "metadata": {},
     "output_type": "execute_result"
    }
   ],
   "source": [
    "print(btrfs.utils.mounted_filesystems())"
   ]
  },
  {
   "cell_type": "code",
   "execution_count": null,
   "metadata": {},
   "outputs": [],
   "source": []
  }
 ],
 "metadata": {
  "kernelspec": {
   "display_name": "Python 3",
   "language": "python",
   "name": "python3"
  },
  "language_info": {
   "codemirror_mode": {
    "name": "ipython",
    "version": 3
   },
   "file_extension": ".py",
   "mimetype": "text/x-python",
   "name": "python",
   "nbconvert_exporter": "python",
   "pygments_lexer": "ipython3",
   "version": "3.5.2"
  }
 },
 "nbformat": 4,
 "nbformat_minor": 2
}
